{
 "cells": [
  {
   "cell_type": "code",
   "execution_count": null,
   "metadata": {
    "collapsed": true
   },
   "outputs": [],
   "source": [
    "# PLEASE NOTE - THERE ARE TWO NOTEBOOKS IN LAB 3!\n",
    "\n",
    "# This notebook is for working through some classifier comparison techniques \n",
    "# it corresponds to Lecture Handouts 3 and 4.\n",
    "#\n",
    "# The questions are:\n",
    "#  -- Section 1: binary (two-class) classification (notebook: Lab 3 Ex. 1)  -- \n",
    "#   i) Evaluate & compare the ROC curves for different classifiers.\n",
    "#  ii) Influence the classifier performance by introducing class weights.\n",
    "#\n",
    "#  -- Section 2: multi-class classification (notebook: Lab 3 Ex. 2) --\n",
    "# iii) Evaluate & compare classifiers using the confusion matrix.\n",
    "#  iv) Classifier selection with practical criteria."
   ]
  },
  {
   "cell_type": "code",
   "execution_count": null,
   "metadata": {},
   "outputs": [],
   "source": [
    "# Autoload setup (you don't need to edit this cell); instructions to: \n",
    "#   i) enable autoreloading of modules\n",
    "%load_ext autoreload\n",
    "#  ii) import the module 'lab_3' (which will contain your functions) in an autoreloadable way \n",
    "%aimport lab_3\n",
    "# iii) indicate that we want autoreloading to happen on every evaluation.\n",
    "%autoreload 1"
   ]
  },
  {
   "cell_type": "code",
   "execution_count": null,
   "metadata": {
    "collapsed": true
   },
   "outputs": [],
   "source": [
    "##############################################################\n",
    "#\n",
    "# Module import -- see Ex. 1 notebook.\n",
    "#\n",
    "##############################################################\n",
    "import pandas as pd\n",
    "import numpy as np\n",
    "import sklearn as skl\n",
    "import time\n",
    "import itertools\n",
    "\n",
    "import matplotlib as mpl\n",
    "import matplotlib.pyplot as plt\n",
    "from matplotlib.colors import ListedColormap\n",
    "%matplotlib inline\n",
    "plt.style.use('fivethirtyeight')\n",
    "plt.rcParams['lines.linewidth'] = 1.7\n",
    "\n",
    "import sklearn.linear_model as skl_lm\n",
    "\n",
    "from sklearn.datasets import fetch_mldata\n",
    "from sklearn.utils import check_random_state\n",
    "\n",
    "from sklearn.metrics import confusion_matrix, classification_report, precision_score\n",
    "from sklearn.model_selection import train_test_split\n",
    "from sklearn.preprocessing import StandardScaler\n",
    "from sklearn.datasets import make_moons, make_circles, make_classification\n",
    "from sklearn.neural_network import MLPClassifier\n",
    "from sklearn.neighbors import KNeighborsClassifier\n",
    "from sklearn.svm import SVC\n",
    "from sklearn.gaussian_process import GaussianProcessClassifier\n",
    "from sklearn.gaussian_process.kernels import RBF\n",
    "from sklearn.tree import DecisionTreeClassifier\n",
    "from sklearn.ensemble import RandomForestClassifier, AdaBoostClassifier\n",
    "from sklearn.naive_bayes import GaussianNB\n",
    "from sklearn.discriminant_analysis import QuadraticDiscriminantAnalysis\n",
    "from sklearn.linear_model import LogisticRegression\n",
    "\n",
    "import time\n",
    "\n"
   ]
  },
  {
   "cell_type": "code",
   "execution_count": null,
   "metadata": {
    "collapsed": true
   },
   "outputs": [],
   "source": [
    "def plot_confusion_matrix(cm, classes,\n",
    "                          normalize=False,\n",
    "                          show_values=False,\n",
    "                          title='Confusion matrix',\n",
    "                          cmap=plt.cm.Blues):\n",
    "    \"\"\"\n",
    "    This function prints and plots the confusion matrix.\n",
    "    Normalization can be applied by setting `normalize=True`.\n",
    "    \"\"\"\n",
    "    if normalize:\n",
    "        cm = cm.astype('float') / cm.sum(axis=1)[:, np.newaxis]\n",
    "        print(\"Normalized confusion matrix\")\n",
    "    else:\n",
    "        print('Confusion matrix, without normalization')\n",
    "\n",
    "    print(cm)\n",
    "    ax = plt.figure(figsize=(10, 10)).add_subplot(111)\n",
    "    plt.imshow(cm, interpolation='nearest', cmap=cmap)\n",
    "    plt.title(title)\n",
    "    plt.colorbar(fraction=0.02, pad=0.04)\n",
    "    tick_marks = np.arange(len(classes))\n",
    "    plt.xticks(tick_marks, classes, rotation=0)\n",
    "    plt.yticks(tick_marks, classes)\n",
    "    plt.grid(False)\n",
    "\n",
    "    if (show_values):\n",
    "        fmt = '.2f' if normalize else 'd'\n",
    "        thresh = 2*cm.max() / 3.\n",
    "        for i, j in itertools.product(range(cm.shape[0]), range(cm.shape[1])):\n",
    "            plt.text(j, i, format(cm[i, j], fmt),\n",
    "                     horizontalalignment=\"center\",\n",
    "                     color=\"white\" if cm[i, j] > thresh else \"black\")\n",
    "\n",
    "    plt.tight_layout()\n",
    "    plt.ylabel('True label')\n",
    "    plt.xlabel('Predicted label')"
   ]
  },
  {
   "cell_type": "code",
   "execution_count": null,
   "metadata": {
    "collapsed": true
   },
   "outputs": [],
   "source": [
    "# We are using off the shelf classifiers from the sklearn package\n",
    "classifiers = {\n",
    "    'Nearest Neighbors': KNeighborsClassifier(3),\n",
    "    'Multinomial Logistic': LogisticRegression(C=50.0 / 5000,\n",
    "                                multi_class='multinomial',\n",
    "                                solver='newton-cg', tol=0.2),\n",
    "    'Linear SVM' : SVC(kernel=\"linear\", C=0.025, probability=True),\n",
    "    'RBF SVM'    : SVC(C=5, gamma=0.05, probability=True),\n",
    "    'Decision Tree' : DecisionTreeClassifier(max_depth=5)\n",
    "}\n"
   ]
  },
  {
   "cell_type": "code",
   "execution_count": null,
   "metadata": {
    "collapsed": true
   },
   "outputs": [],
   "source": [
    "#  \n",
    "# Going Further: MultiClass Classification on the MNIST Dataset \n",
    "# using the Multinomial Logistic Regression\n",
    "# \n",
    "# Loading the MNIST dataset\n",
    "train_samples = 2000\n",
    "\n",
    "mnist = fetch_mldata('MNIST original')\n",
    "X = mnist.data.astype('float')/255\n",
    "# X = StandardScaler().fit_transform(X)  # don't do this --- it makes every pixel equally significant!\n",
    "y = mnist.target\n",
    "random_state = check_random_state(0)\n",
    "permutation = random_state.permutation(X.shape[0])\n",
    "X = X[permutation]\n",
    "y = y[permutation]\n",
    "X = X.reshape((X.shape[0], -1))\n",
    "\n",
    "# splitting the dataset into training set and testing set\n",
    "\n",
    "X_train, X_test, y_train, y_test = train_test_split(\n",
    "    X, y, train_size=train_samples, test_size=500, random_state=0)"
   ]
  },
  {
   "cell_type": "code",
   "execution_count": null,
   "metadata": {},
   "outputs": [],
   "source": [
    "# showing some of the examples in the dataset\n",
    "\n",
    "fig, ax = plt.subplots(3,3, figsize=(12,12))\n",
    "\n",
    "for i in range(9):\n",
    "    picture = np.reshape(X_train[i], (28, 28))\n",
    "\n",
    "    plt.subplot(3,3,i+1)\n",
    "    plt.imshow(picture, cmap='gray', interpolation='none')\n",
    "    plt.gca().grid(False) \n",
    "    plt.title(\"Class {}\".format(int(y_train[i])))"
   ]
  },
  {
   "cell_type": "code",
   "execution_count": null,
   "metadata": {},
   "outputs": [],
   "source": [
    "metrics = {}\n",
    "\n",
    "for name, classifier in classifiers.items():    \n",
    "\n",
    "    print('training for classifer: {}'.format(name))\n",
    "    start_time = time.time()\n",
    "    classifier.fit(X_train, y_train)\n",
    "    end_time = time.time()\n",
    "    \n",
    "    m = {}\n",
    "    m['training_time'] = end_time - start_time\n",
    "    metrics[name] = m\n",
    "\n",
    "print(\"done\")"
   ]
  },
  {
   "cell_type": "code",
   "execution_count": null,
   "metadata": {},
   "outputs": [],
   "source": [
    "from sklearn.metrics import accuracy_score\n",
    "from sklearn.metrics import recall_score\n",
    "from sklearn.metrics import precision_score\n",
    "from sklearn.metrics import f1_score\n",
    "\n",
    "\n",
    "for name, classifier in classifiers.items():  \n",
    "    print('predictions for classifer: {}'.format(name))\n",
    "    start_time = time.time()\n",
    "    y_pred = classifier.predict(X_test)\n",
    "    end_time = time.time()\n",
    "\n",
    "    m = {}\n",
    "    m['f1'] = f1_score(y_test, y_pred, average='macro')\n",
    "    m['accuracy'] = accuracy_score(y_test, y_pred)\n",
    "    m['precision'] = precision_score(y_test, y_pred, average='macro')\n",
    "    m['recall'] = recall_score(y_test, y_pred, average='macro')\n",
    "    m['prediction_time'] = end_time - start_time\n",
    "    metrics[name].update(m)\n",
    "print(\"done\")\n"
   ]
  },
  {
   "cell_type": "code",
   "execution_count": null,
   "metadata": {},
   "outputs": [],
   "source": [
    "df = pd.DataFrame(metrics).transpose()\n",
    "display(df)\n"
   ]
  },
  {
   "cell_type": "code",
   "execution_count": null,
   "metadata": {},
   "outputs": [],
   "source": [
    "# Question:\n",
    "# What percentage of images in the test set are misclassified by the RBF SVM classifier?\n",
    "#\n",
    "# Provide your answer in the function 'question_3' in the lab module ('lab_3.py').\n"
   ]
  },
  {
   "cell_type": "code",
   "execution_count": null,
   "metadata": {},
   "outputs": [],
   "source": [
    "# Examine the performance of the RBF SVM classifier via the confusion matrix.\n",
    "\n",
    "predicted_classes = classifiers['RBF SVM'].predict(X_test)\n",
    "\n",
    "M = skl.metrics.confusion_matrix(y_test, predicted_classes)\n",
    "\n",
    "class_names = [str(n) for n in range(0,10)]\n",
    "np.set_printoptions(formatter={'float': '{: 0.3f}'.format})\n",
    "plot_confusion_matrix(M, class_names, normalize=True, show_values=True)"
   ]
  },
  {
   "cell_type": "code",
   "execution_count": null,
   "metadata": {
    "collapsed": true
   },
   "outputs": [],
   "source": [
    "# Question:\n",
    "# Which digit is most frequently misclassified?\n",
    "#\n",
    "# Provide your answer in the function 'question_4' in the lab module ('lab_3.py')."
   ]
  }
 ],
 "metadata": {
  "kernelspec": {
   "display_name": "Python 3",
   "language": "python",
   "name": "python3"
  },
  "language_info": {
   "codemirror_mode": {
    "name": "ipython",
    "version": 3
   },
   "file_extension": ".py",
   "mimetype": "text/x-python",
   "name": "python",
   "nbconvert_exporter": "python",
   "pygments_lexer": "ipython3",
   "version": "3.6.2"
  }
 },
 "nbformat": 4,
 "nbformat_minor": 2
}